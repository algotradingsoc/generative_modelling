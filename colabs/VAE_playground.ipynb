{
  "nbformat": 4,
  "nbformat_minor": 0,
  "metadata": {
    "colab": {
      "name": "VAE_playground",
      "provenance": [],
      "collapsed_sections": []
    },
    "kernelspec": {
      "name": "python3",
      "display_name": "Python 3"
    }
  },
  "cells": [
    {
      "cell_type": "code",
      "metadata": {
        "id": "cfynCrk_sV5g"
      },
      "source": [
        "import tensorflow as tf\n",
        "import numpy as np\n",
        "import sklearn.model_selection as selection\n",
        "import matplotlib.pyplot as plt"
      ],
      "execution_count": null,
      "outputs": []
    },
    {
      "cell_type": "code",
      "metadata": {
        "id": "gz9H51d8sqh-"
      },
      "source": [
        "def make_nn(hidden_sizes, output_size, activation=tf.keras.activations.relu):\n",
        "    NNLayers = [tf.keras.layers.Dense(h, activation=activation, dtype=tf.float32) for h in hidden_sizes]\n",
        "    NNLayers.append(tf.keras.layers.Dense(output_size, dtype=tf.float32))\n",
        "    return tf.keras.Sequential(NNLayers)\n",
        "\n",
        "  \n",
        "class Decoder(tf.keras.Model):\n",
        "  def __init__(self, hidden_sizes, output_size, activation=tf.keras.activations.relu):\n",
        "    super(Decoder, self).__init__()\n",
        "    self.network = make_nn(hidden_sizes, output_size, activation=activation)\n",
        "\n",
        "  def call(self, z):\n",
        "    out = self.network(z)\n",
        "    return out"
      ],
      "execution_count": null,
      "outputs": []
    },
    {
      "cell_type": "code",
      "metadata": {
        "id": "kMejLiz_sqp5"
      },
      "source": [
        "class Encoder(tf.keras.Model):\n",
        "    def __init__(self, hidden_sizes, output_size, activation=tf.keras.activations.relu):\n",
        "        super(Encoder, self).__init__()\n",
        "        self.network = make_nn(hidden_sizes, output_size, activation=tf.keras.activations.relu)\n",
        "\n",
        "    def call(self, inputs, training=False):\n",
        "        return self.network(inputs)"
      ],
      "execution_count": null,
      "outputs": []
    },
    {
      "cell_type": "code",
      "metadata": {
        "id": "oucY0aFSsqkj"
      },
      "source": [
        "class VAE(tf.keras.Model):\n",
        "  def __init__(self, input_size, latent_dim, encoder_layers, decoder_layers, activation=tf.keras.activations.relu):\n",
        "    super(VAE, self).__init__()\n",
        "    self.latent_dim = latent_dim\n",
        "    self.encoder = Encoder([input_size]+encoder_layers, self.latent_dim*2, activation=activation)\n",
        "    self.decoder = Decoder([self.latent_dim]+decoder_layers, input_size, activation=activation)\n",
        "\n",
        "  def reparameterize(self, mean, logvar):\n",
        "    eps = tf.random.normal(shape=mean.shape)\n",
        "    return eps * tf.exp(0.5*logvar) + mean\n",
        "\n",
        "  def call(self, x):\n",
        "    mean, logvar = tf.split(self.encoder(x), 2, axis=-1)\n",
        "    z = self.reparameterize(mean, logvar)\n",
        "    output = self.decoder(z)\n",
        "    return output\n",
        "\n",
        "  def sample(self, eps=None, batch_size=100):\n",
        "    if eps is None:\n",
        "      eps = tf.random.normal(shape=(batch_size, self.latent_dim))\n",
        "    return self.decoder(eps)\n"
      ],
      "execution_count": null,
      "outputs": []
    },
    {
      "cell_type": "code",
      "metadata": {
        "id": "2AHBJS1N77ZG"
      },
      "source": [
        "class FlattenImage(tf.keras.Model):\n",
        "    def __init__(self, shape, model, model_kwargs):\n",
        "        super(FlattenImage, self).__init__()\n",
        "        self.shape = shape\n",
        "        self.flat_size = 1\n",
        "        for i in self.shape:\n",
        "            self.flat_size *= i\n",
        "        self.vae = model(input_size=self.flat_size, **model_kwargs)\n",
        "\n",
        "    def call(self, inputs, training=False):\n",
        "        x = tf.keras.layers.Flatten()(inputs)\n",
        "        x = self.vae(x)\n",
        "        x = tf.reshape(x, (-1, *self.shape, 1))\n",
        "        return x"
      ],
      "execution_count": null,
      "outputs": []
    },
    {
      "cell_type": "code",
      "metadata": {
        "id": "u3a5Q7Qksqs6"
      },
      "source": [
        "def get_mnist(dataset=tf.keras.datasets.fashion_mnist.load_data, val_split=None, normalise_factor=255.0):\n",
        "    (x_train, y_train), (x_test, y_test) = dataset()\n",
        "    x_train = x_train[..., np.newaxis] / normalise_factor\n",
        "    x_test = x_test[..., np.newaxis] / normalise_factor\n",
        "    if val_split is not None:\n",
        "        val_length = int(len(x_train) * val_split)\n",
        "        x_train, y_train = x_train[:-val_length, ...], y_train[:-val_length, ...]\n",
        "        x_val, y_val = x_train[-val_length:, ...], y_train[-val_length:, ...]\n",
        "        x_val = np.float32(x_val)\n",
        "    else:\n",
        "        x_val = y_val = None\n",
        "\n",
        "    x_train = np.float32(x_train)\n",
        "    x_test = np.float32(x_test)\n",
        "\n",
        "    train = (x_train, y_train)\n",
        "    val = (x_val, y_val)\n",
        "    test = (x_test, y_test)\n",
        "    return train, val, test"
      ],
      "execution_count": null,
      "outputs": []
    },
    {
      "cell_type": "code",
      "metadata": {
        "id": "DxSM_axFvark"
      },
      "source": [
        "(x_train, _), (x_val, _), (x_test, _) = get_mnist(val_split=0.2)\n",
        "#x_train, x_val = selection.train_test_split(x_train)"
      ],
      "execution_count": null,
      "outputs": []
    },
    {
      "cell_type": "code",
      "metadata": {
        "colab": {
          "base_uri": "https://localhost:8080/"
        },
        "id": "GjIB6JO8Bifw",
        "outputId": "7d7defad-25c7-42d0-c56d-3144c2729c94"
      },
      "source": [
        "print(x_train.shape)\n",
        "print(x_val.shape)\n"
      ],
      "execution_count": null,
      "outputs": [
        {
          "output_type": "stream",
          "text": [
            "(48000, 28, 28, 1)\n",
            "(12000, 28, 28, 1)\n"
          ],
          "name": "stdout"
        }
      ]
    },
    {
      "cell_type": "code",
      "metadata": {
        "id": "ssnIZv9H6wR-"
      },
      "source": [
        "model = FlattenImage((28,28), VAE, {'latent_dim':28, 'encoder_layers':[128], 'decoder_layers':[128]})"
      ],
      "execution_count": null,
      "outputs": []
    },
    {
      "cell_type": "code",
      "metadata": {
        "colab": {
          "base_uri": "https://localhost:8080/"
        },
        "id": "ySHbPaNH9y3K",
        "outputId": "a1073347-2c6b-4b41-e0ac-cb0a45c50aff"
      },
      "source": [
        "x = model(x_train)\n",
        "model.compile(optimizer='sgd', loss=tf.keras.losses.KLDivergence())\n",
        "h = model.fit(x_train, x_train, validation_data=(x_val, x_val), verbose=1, epochs=10) #"
      ],
      "execution_count": null,
      "outputs": [
        {
          "output_type": "stream",
          "text": [
            "Epoch 1/10\n",
            "1500/1500 [==============================] - 14s 9ms/step - loss: 0.9858 - val_loss: 0.6541\n",
            "Epoch 2/10\n",
            "1500/1500 [==============================] - 13s 9ms/step - loss: 0.6542 - val_loss: 0.6373\n",
            "Epoch 3/10\n",
            "1500/1500 [==============================] - 13s 9ms/step - loss: 0.6376 - val_loss: 0.6331\n",
            "Epoch 4/10\n",
            "1500/1500 [==============================] - 14s 9ms/step - loss: 0.6347 - val_loss: 0.6330\n",
            "Epoch 5/10\n",
            "1500/1500 [==============================] - 14s 9ms/step - loss: 0.6367 - val_loss: 0.6330\n",
            "Epoch 6/10\n",
            "1500/1500 [==============================] - 13s 9ms/step - loss: 0.6349 - val_loss: 0.6329\n",
            "Epoch 7/10\n",
            "1500/1500 [==============================] - 13s 9ms/step - loss: 0.6354 - val_loss: 0.6329\n",
            "Epoch 8/10\n",
            "1500/1500 [==============================] - 13s 9ms/step - loss: 0.6364 - val_loss: 0.6329\n",
            "Epoch 9/10\n",
            "1500/1500 [==============================] - 13s 9ms/step - loss: 0.6322 - val_loss: 0.6295\n",
            "Epoch 10/10\n",
            "1500/1500 [==============================] - 13s 9ms/step - loss: 0.6307 - val_loss: 0.6295\n"
          ],
          "name": "stdout"
        }
      ]
    },
    {
      "cell_type": "code",
      "metadata": {
        "id": "hrvpPr-Z-s5x",
        "colab": {
          "base_uri": "https://localhost:8080/",
          "height": 280
        },
        "outputId": "4dd5b957-cf9b-4b18-8b98-5c2cca17d015"
      },
      "source": [
        "plt.plot(h.history['loss'])\n",
        "plt.plot(h.history['val_loss'])"
      ],
      "execution_count": null,
      "outputs": [
        {
          "output_type": "execute_result",
          "data": {
            "text/plain": [
              "[<matplotlib.lines.Line2D at 0x7f0745577a90>]"
            ]
          },
          "metadata": {
            "tags": []
          },
          "execution_count": 13
        },
        {
          "output_type": "display_data",
          "data": {
            "image/png": "[encoded data removed]",
            "text/plain": [
              "<Figure size 432x288 with 1 Axes>"
            ]
          },
          "metadata": {
            "tags": [],
            "needs_background": "light"
          }
        }
      ]
    },
    {
      "cell_type": "code",
      "metadata": {
        "id": "TtcP75_4ATm1"
      },
      "source": [
        ""
      ],
      "execution_count": null,
      "outputs": []
    }
  ]
}