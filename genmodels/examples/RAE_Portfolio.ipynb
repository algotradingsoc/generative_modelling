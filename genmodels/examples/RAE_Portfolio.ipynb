{
  "nbformat": 4,
  "nbformat_minor": 0,
  "metadata": {
    "colab": {
      "name": "RAE Portfolio.ipynb",
      "provenance": [],
      "collapsed_sections": [
        "e9XPgNpdv0fJ",
        "Zi49_17tnt-d",
        "j8WJVbY8pzY-",
        "tiyLvuuJnfx0"
      ]
    },
    "kernelspec": {
      "display_name": "Python 3",
      "name": "python3"
    },
    "accelerator": "GPU"
  },
  "cells": [
    {
      "cell_type": "markdown",
      "metadata": {
        "id": "KyIOQzzgG-Nc"
      },
      "source": [
        "Original: https://arxiv.org/abs/1707.07961"
      ]
    },
    {
      "cell_type": "code",
      "metadata": {
        "id": "X7YG1PS0G9Zm"
      },
      "source": [
        "import tensorflow as tf\n",
        "import numpy as np\n",
        "import pandas as pd\n",
        "import matplotlib.pyplot as plt\n",
        "plt.style.use(\"ggplot\")\n",
        "import keras.backend as K\n",
        "from google.colab import drive\n",
        "import gc"
      ],
      "execution_count": null,
      "outputs": []
    },
    {
      "cell_type": "code",
      "metadata": {
        "colab": {
          "base_uri": "https://localhost:8080/"
        },
        "id": "i8HUAft-Hs3D",
        "outputId": "31d10402-955f-4415-bfa5-a851947f22f2"
      },
      "source": [
        "!pip install yfinance\n",
        "import yfinance as yf"
      ],
      "execution_count": null,
      "outputs": [
        {
          "output_type": "stream",
          "text": [
            "Collecting yfinance\n",
            "  Downloading https://files.pythonhosted.org/packages/7a/e8/b9d7104d3a4bf39924799067592d9e59119fcfc900a425a12e80a3123ec8/yfinance-0.1.55.tar.gz\n",
            "Requirement already satisfied: pandas>=0.24 in /usr/local/lib/python3.7/dist-packages (from yfinance) (1.1.5)\n",
            "Requirement already satisfied: numpy>=1.15 in /usr/local/lib/python3.7/dist-packages (from yfinance) (1.19.5)\n",
            "Requirement already satisfied: requests>=2.20 in /usr/local/lib/python3.7/dist-packages (from yfinance) (2.23.0)\n",
            "Requirement already satisfied: multitasking>=0.0.7 in /usr/local/lib/python3.7/dist-packages (from yfinance) (0.0.9)\n",
            "Collecting lxml>=4.5.1\n",
            "\u001b[?25l  Downloading https://files.pythonhosted.org/packages/d2/88/b25778f17e5320c1c58f8c5060fb5b037288e162bd7554c30799e9ea90db/lxml-4.6.2-cp37-cp37m-manylinux1_x86_64.whl (5.5MB)\n",
            "\u001b[K     |████████████████████████████████| 5.5MB 23.4MB/s \n",
            "\u001b[?25hRequirement already satisfied: python-dateutil>=2.7.3 in /usr/local/lib/python3.7/dist-packages (from pandas>=0.24->yfinance) (2.8.1)\n",
            "Requirement already satisfied: pytz>=2017.2 in /usr/local/lib/python3.7/dist-packages (from pandas>=0.24->yfinance) (2018.9)\n",
            "Requirement already satisfied: urllib3!=1.25.0,!=1.25.1,<1.26,>=1.21.1 in /usr/local/lib/python3.7/dist-packages (from requests>=2.20->yfinance) (1.24.3)\n",
            "Requirement already satisfied: chardet<4,>=3.0.2 in /usr/local/lib/python3.7/dist-packages (from requests>=2.20->yfinance) (3.0.4)\n",
            "Requirement already satisfied: certifi>=2017.4.17 in /usr/local/lib/python3.7/dist-packages (from requests>=2.20->yfinance) (2020.12.5)\n",
            "Requirement already satisfied: idna<3,>=2.5 in /usr/local/lib/python3.7/dist-packages (from requests>=2.20->yfinance) (2.10)\n",
            "Requirement already satisfied: six>=1.5 in /usr/local/lib/python3.7/dist-packages (from python-dateutil>=2.7.3->pandas>=0.24->yfinance) (1.15.0)\n",
            "Building wheels for collected packages: yfinance\n",
            "  Building wheel for yfinance (setup.py) ... \u001b[?25l\u001b[?25hdone\n",
            "  Created wheel for yfinance: filename=yfinance-0.1.55-py2.py3-none-any.whl size=22616 sha256=9ade3b08935048ec32c16a8452f04a3758e0c8c8350c25370877f75e96b5464f\n",
            "  Stored in directory: /root/.cache/pip/wheels/04/98/cc/2702a4242d60bdc14f48b4557c427ded1fe92aedf257d4565c\n",
            "Successfully built yfinance\n",
            "Installing collected packages: lxml, yfinance\n",
            "  Found existing installation: lxml 4.2.6\n",
            "    Uninstalling lxml-4.2.6:\n",
            "      Successfully uninstalled lxml-4.2.6\n",
            "Successfully installed lxml-4.6.2 yfinance-0.1.55\n"
          ],
          "name": "stdout"
        }
      ]
    },
    {
      "cell_type": "code",
      "metadata": {
        "colab": {
          "base_uri": "https://localhost:8080/"
        },
        "id": "7u9Hz-m2XCLb",
        "outputId": "b4b13a1a-0cf4-4409-9583-ebd2c37ed5a9"
      },
      "source": [
        "drive.mount(u\"/contents/\")"
      ],
      "execution_count": null,
      "outputs": [
        {
          "output_type": "stream",
          "text": [
            "Mounted at /contents/\n"
          ],
          "name": "stdout"
        }
      ]
    },
    {
      "cell_type": "markdown",
      "metadata": {
        "id": "e9XPgNpdv0fJ"
      },
      "source": [
        "# Dataset Construction"
      ]
    },
    {
      "cell_type": "code",
      "metadata": {
        "colab": {
          "base_uri": "https://localhost:8080/"
        },
        "id": "B5MqW0jc7Al6",
        "outputId": "5fdabd3b-7a88-4daf-d4fa-bc28d8e325df"
      },
      "source": [
        "tickers = \"AAPL MSFT MMM MRO CLX CAT JPM GS AXP DLTR AMD NFLX FCX AZO KO AMZN\"\n",
        "data = yf.download(tickers, start=\"2010-01-01\", end=\"2018-12-31\")\n",
        "## ignoring the fact it isnt div adjusted\n",
        "rets = data[\"Adj Close\"].apply(np.log).diff()[1:]\n",
        "#rets /= rets.rolling(10, min_periods=10).std()\n",
        "#rets = rets[10:]"
      ],
      "execution_count": null,
      "outputs": [
        {
          "output_type": "stream",
          "text": [
            "[*********************100%***********************]  16 of 16 completed\n"
          ],
          "name": "stdout"
        }
      ]
    },
    {
      "cell_type": "code",
      "metadata": {
        "colab": {
          "base_uri": "https://localhost:8080/"
        },
        "id": "pB814Eoo7Al7",
        "outputId": "a32c8bdc-4bc5-4d89-f344-56c8f30f2ae3"
      },
      "source": [
        "gc.collect()"
      ],
      "execution_count": null,
      "outputs": [
        {
          "output_type": "execute_result",
          "data": {
            "text/plain": [
              "15515"
            ]
          },
          "metadata": {
            "tags": []
          },
          "execution_count": 61
        }
      ]
    },
    {
      "cell_type": "code",
      "metadata": {
        "colab": {
          "base_uri": "https://localhost:8080/"
        },
        "id": "lpA2iWuZCFkM",
        "outputId": "fde0986d-8115-4767-cbde-433de05f8ecd"
      },
      "source": [
        "rets.shape"
      ],
      "execution_count": null,
      "outputs": [
        {
          "output_type": "execute_result",
          "data": {
            "text/plain": [
              "(2262, 16)"
            ]
          },
          "metadata": {
            "tags": []
          },
          "execution_count": 62
        }
      ]
    },
    {
      "cell_type": "code",
      "metadata": {
        "id": "mgwIvmgo7Al8"
      },
      "source": [
        "time_series_len = 40\n",
        "input_dim = 16\n",
        "\n",
        "train_length = 1600\n",
        "train_rets = rets.values[:train_length, :]\n",
        "test_rets = rets.values[train_length:, :]\n",
        "def create_x_data(rets, time_series_len):\n",
        "    num_time_series = len(rets) - time_series_len + 1\n",
        "    x_data = []\n",
        "    for i in range(num_time_series):\n",
        "        x_data.append(rets[i:time_series_len+i,:input_dim])\n",
        "    x_data = np.asarray(x_data, dtype=np.float32)\n",
        "    return x_data\n",
        "train_x_data = create_x_data(train_rets, time_series_len)\n",
        "test_x_data = create_x_data(test_rets, time_series_len)"
      ],
      "execution_count": null,
      "outputs": []
    },
    {
      "cell_type": "code",
      "metadata": {
        "colab": {
          "base_uri": "https://localhost:8080/"
        },
        "id": "BEveS3Db7Al8",
        "outputId": "39a0c212-81b7-4e5a-c003-5837bb300739"
      },
      "source": [
        "train_x_data.shape, test_x_data.shape"
      ],
      "execution_count": null,
      "outputs": [
        {
          "output_type": "execute_result",
          "data": {
            "text/plain": [
              "((1561, 40, 16), (623, 40, 16))"
            ]
          },
          "metadata": {
            "tags": []
          },
          "execution_count": 48
        }
      ]
    },
    {
      "cell_type": "code",
      "metadata": {
        "colab": {
          "base_uri": "https://localhost:8080/"
        },
        "id": "2tO4M47Q7bYQ",
        "outputId": "e5bbba6a-17fd-49ca-da81-97a30acfdaff"
      },
      "source": [
        "train_future_returns = create_future_returns(train_rets, len(train_x_data)-1)\r\n",
        "test_future_returns = create_future_returns(test_rets, len(test_x_data)-1)\r\n",
        "train_input_data = train_x_data[1:]\r\n",
        "test_input_data = test_x_data[1:]\r\n",
        "train_input_data.shape, test_input_data.shape, train_future_returns.shape, test_future_returns.shape"
      ],
      "execution_count": null,
      "outputs": [
        {
          "output_type": "execute_result",
          "data": {
            "text/plain": [
              "((1560, 40, 16), (622, 40, 16), (1560, 40, 16), (622, 40, 16))"
            ]
          },
          "metadata": {
            "tags": []
          },
          "execution_count": 49
        }
      ]
    },
    {
      "cell_type": "markdown",
      "metadata": {
        "id": "EwfnRuBK7Aly"
      },
      "source": [
        "# Deep RAE Portfolio"
      ]
    },
    {
      "cell_type": "code",
      "metadata": {
        "id": "cm5XKqYX7AmA"
      },
      "source": [
        "def negative_mean_variance_utility(y_true,y_pred):\r\n",
        "  # y_pred is the portfolio weights\r\n",
        "  # y_true is the returns!\r\n",
        "  # we want to compute average portfolio return\r\n",
        "  # mean-variance utility! similar to an exponential utility with the same risk aversion\r\n",
        "  return -K.mean(K.sum(K.sum(y_pred * y_true, axis=-1), axis=-1)) + risk_aversion * K.mean(K.std(K.sum(y_pred * y_true, axis=-1), axis=-1))\r\n",
        "  #return (callprice + kb.sum(y_pred * y_true,axis=-1) - kb.maximum(S_0 + kb.sum(y_true,axis=-1) - K,0.))**2\r\n",
        "def negative_entropic_utility(y_true,y_pred):\r\n",
        "  return K.mean(K.exp(-risk_aversion*K.sum(K.sum(y_pred * y_true, axis=-1), axis=-1)))\r\n",
        "def create_future_returns(rets, num_time_series_len):\r\n",
        "  future_returns = []\r\n",
        "  for i in range(num_time_series_len):\r\n",
        "      future_returns.append(rets[i+1:time_series_len+i+1,:input_dim])\r\n",
        "  future_returns = np.asarray(future_returns, dtype=np.float32)\r\n",
        "  return future_returns\r\n",
        "def portfolio_performance(train_portfolio_weights, test_portfolio_weights):\r\n",
        "  train_portfolio_return_averages = np.mean(np.sum(train_portfolio_weights * train_future_returns, axis=-1), axis=-1)\r\n",
        "  test_portfolio_return_averages = np.mean(np.sum(test_portfolio_weights * test_future_returns, axis=-1), axis=-1)\r\n",
        "  return train_portfolio_return_averages, test_portfolio_return_averages"
      ],
      "execution_count": null,
      "outputs": []
    },
    {
      "cell_type": "code",
      "metadata": {
        "id": "9SlHE2im7Al3"
      },
      "source": [
        "\"\"\"\n",
        "Recurrent Auto-Encoder\n",
        "Original paper: https://arxiv.org/abs/1707.07961\n",
        "\"\"\"\n",
        "### Model Creation\n",
        "\n",
        "class LSTM_Sequential_State(tf.keras.Model):\n",
        "  def __init__(self, time_series_len, input_dim, LSTM_units):\n",
        "    '''\n",
        "    This is a rolling version of LSTM, \n",
        "    which applies the ordinary LSTM to a dataset \n",
        "    and returns all the cell states and hidden states.\n",
        "    '''\n",
        "    super(LSTM_Sequential_State, self).__init__()\n",
        "    self.time_series_len = time_series_len\n",
        "    self.input_dim = input_dim\n",
        "    self.LSTM_units = LSTM_units\n",
        "\n",
        "    self.inputs = tf.keras.Input((self.time_series_len, self.input_dim))\n",
        "    self.rnn = tf.keras.layers.LSTM(self.LSTM_units, return_state=True)\n",
        "\n",
        "    def expand(x):\n",
        "        return K.expand_dims(x, 1)\n",
        "\n",
        "    self.expand_layer = tf.keras.layers.Lambda(expand, output_shape=lambda s: (s[0], 1, s[1]))\n",
        "\n",
        "  @staticmethod\n",
        "  def get_indexer(t):\n",
        "        return tf.keras.layers.Lambda(lambda x, t: x[:, t, :], arguments={'t':t}, output_shape=lambda s: (s[0], s[2]))\n",
        "\n",
        "  def call(self, inputs):\n",
        "    state = None\n",
        "    states = [] # list of (h, c) tuples\n",
        "    outputs = []\n",
        "    h_states = []\n",
        "    c_states = []\n",
        "    for t in range(self.time_series_len):\n",
        "        input_t = LSTM_Sequential_State.get_indexer(t)(inputs)  # basically input_t = inputs[:, t, :]\n",
        "        input_t = self.expand_layer(input_t)\n",
        "        output_t, h, c = self.rnn(input_t, initial_state=state)\n",
        "        state = h, c\n",
        "        states.append(state)\n",
        "        h_states.append(h)\n",
        "        c_states.append(c)\n",
        "        outputs.append(output_t)\n",
        "\n",
        "    c_states_layer = tf.keras.layers.Concatenate(axis=-1)(c_states)\n",
        "    c_reshape_layer = tf.keras.layers.Reshape((self.time_series_len,self.LSTM_units))(c_states_layer)\n",
        "    h_states_layer = tf.keras.layers.Concatenate(axis=-1)(h_states)\n",
        "    h_reshape_layer = tf.keras.layers.Reshape((self.time_series_len,self.LSTM_units))(h_states_layer)\n",
        "    output = tf.keras.layers.concatenate((c_reshape_layer, h_reshape_layer), axis=-1)\n",
        "    return output\n",
        "\n",
        "class RAE_Model(tf.keras.Model):\n",
        "  def __init__(self, time_series_len, input_dim, LSTM_units, compression_units, regularization_coefficient):\n",
        "    '''\n",
        "    time_series_len: the length of time series, which is the second dimension of the dataset\n",
        "    input_dim: the number of time series, which is the third dimension of the dataset\n",
        "    LSTM_units: the number of units used in LSTM layer\n",
        "    compression_units: the number of units in the Dense layer which acts on each output at each time point\n",
        "    '''\n",
        "    super(RAE_Model, self).__init__()\n",
        "    self.time_series_len = time_series_len\n",
        "    self.input_dim = input_dim\n",
        "    self.LSTM_units = LSTM_units\n",
        "    self.compression_units = compression_units\n",
        "    self.regularizer = tf.keras.regularizers.L1(regularization_coefficient)\n",
        "\n",
        "    self.lss = LSTM_Sequential_State(time_series_len, input_dim, LSTM_units)\n",
        "    self.d = tf.keras.layers.Dense(compression_units, kernel_regularizer=self.regularizer, bias_regularizer=self.regularizer)\n",
        "    self.FF1 = tf.keras.layers.TimeDistributed(self.d)\n",
        "\n",
        "    self.lss_scale = LSTM_Sequential_State(time_series_len, compression_units, LSTM_units)\n",
        "    self.scale_up = tf.keras.layers.Dense(input_dim, kernel_regularizer=self.regularizer, bias_regularizer=self.regularizer)\n",
        "    self.FF2 = tf.keras.layers.TimeDistributed(self.scale_up)\n",
        "\n",
        "  def call(self, inputs):\n",
        "    x = self.lss(inputs) # using default, ouputs: (1, 90, 10) 10: 2*5, where 5 is LSTM units\n",
        "    x = self.FF1(x) # using default, ouputs: (1, 90, 1) -> latent time series (univariate)\n",
        "    x = self.lss_scale(x) # check the dimension of x here\n",
        "    x = self.FF2(x)\n",
        "    return x\n",
        "    # freeze until one of the layers, and use the prior layers together with a feed-forward for forecasting future time series\n",
        "\n",
        "  def get_encoder(self):\n",
        "    return lambda inputs : self.FF1(self.lss(inputs))"
      ],
      "execution_count": null,
      "outputs": []
    },
    {
      "cell_type": "code",
      "metadata": {
        "id": "4fvgLIQsSuIC"
      },
      "source": [
        "class RAE_Portfolio(tf.keras.Model):\r\n",
        "  def __init__(self, time_series_len, input_dim, LSTM_units, compression_units, regularization_coefficient):\r\n",
        "    '''\r\n",
        "    time_series_len: the length of time series, which is the second dimension of the dataset\r\n",
        "    input_dim: the number of time series, which is the third dimension of the dataset\r\n",
        "    LSTM_units: the number of units used in LSTM layer\r\n",
        "    compression_units: the number of units in the Dense layer which acts on each output at each time point\r\n",
        "\r\n",
        "    output: a long-only no-leverage portfolio for input_dim stocks\r\n",
        "    '''\r\n",
        "    super(RAE_Portfolio, self).__init__()\r\n",
        "    self.time_series_len = time_series_len\r\n",
        "    self.input_dim = input_dim\r\n",
        "    self.LSTM_units = LSTM_units\r\n",
        "    self.compression_units = compression_units\r\n",
        "    self.regularizer = tf.keras.regularizers.L1(regularization_coefficient)\r\n",
        "\r\n",
        "    self.lss = LSTM_Sequential_State(time_series_len, input_dim, LSTM_units)\r\n",
        "    self.d = tf.keras.layers.Dense(compression_units, kernel_regularizer=self.regularizer, bias_regularizer=self.regularizer)\r\n",
        "    self.FF1 = tf.keras.layers.TimeDistributed(self.d)\r\n",
        "\r\n",
        "    self.lss_scale = LSTM_Sequential_State(time_series_len, compression_units, LSTM_units)\r\n",
        "    self.scale_up = tf.keras.layers.Dense(input_dim, kernel_regularizer=self.regularizer, bias_regularizer=self.regularizer, activation=\"softmax\")\r\n",
        "    self.FF2 = tf.keras.layers.TimeDistributed(self.scale_up)\r\n",
        "\r\n",
        "  def call(self, inputs):\r\n",
        "    x = self.lss(inputs) # using default, ouputs: (1, 90, 10) 10: 2*5, where 5 is LSTM units\r\n",
        "    x = self.FF1(x) # using default, ouputs: (1, 90, 1) -> latent time series (univariate)\r\n",
        "    x = self.lss_scale(x) # check the dimension of x here\r\n",
        "    x = self.FF2(x)\r\n",
        "    return x\r\n",
        "    # freeze until one of the layers, and use the prior layers together with a feed-forward for forecasting future time series\r\n",
        "\r\n",
        "  def get_encoder(self):\r\n",
        "    return lambda inputs : self.FF1(self.lss(inputs))"
      ],
      "execution_count": null,
      "outputs": []
    },
    {
      "cell_type": "code",
      "metadata": {
        "id": "BW5X2llk7Al9"
      },
      "source": [
        "LSTM_units = 5\r\n",
        "compression_units = 8\r\n",
        "regularization_coefficient = 4e-2\r\n",
        "risk_aversion = 1.0\r\n",
        "rae_portfolio_constructor = RAE_Portfolio(time_series_len=time_series_len, LSTM_units=LSTM_units, input_dim=input_dim, compression_units=compression_units, regularization_coefficient=regularization_coefficient)"
      ],
      "execution_count": null,
      "outputs": []
    },
    {
      "cell_type": "code",
      "metadata": {
        "colab": {
          "base_uri": "https://localhost:8080/"
        },
        "id": "fRo0IUuq7Al9",
        "outputId": "ea213172-33df-447c-c977-fbb92f5825cc"
      },
      "source": [
        "tf.random.set_seed(42)\n",
        "rae_portfolio_constructor.compile(optimizer=\"adam\", loss=negative_entropic_utility)\n",
        "h = rae_portfolio_constructor.fit(train_input_data, train_future_returns, epochs=100, verbose=1, validation_data=(test_input_data, test_future_returns), batch_size=200)"
      ],
      "execution_count": null,
      "outputs": [
        {
          "output_type": "stream",
          "text": [
            "Epoch 1/100\n",
            "8/8 [==============================] - 104s 3s/step - loss: 3.3996 - val_loss: 3.3274\n",
            "Epoch 2/100\n",
            "8/8 [==============================] - 1s 116ms/step - loss: 3.3190 - val_loss: 3.2524\n",
            "Epoch 3/100\n",
            "8/8 [==============================] - 1s 112ms/step - loss: 3.2442 - val_loss: 3.1790\n",
            "Epoch 4/100\n",
            "8/8 [==============================] - 1s 116ms/step - loss: 3.1702 - val_loss: 3.1075\n",
            "Epoch 5/100\n",
            "8/8 [==============================] - 1s 111ms/step - loss: 3.0993 - val_loss: 3.0375\n",
            "Epoch 6/100\n",
            "8/8 [==============================] - 1s 111ms/step - loss: 3.0300 - val_loss: 2.9690\n",
            "Epoch 7/100\n",
            "8/8 [==============================] - 1s 139ms/step - loss: 2.9618 - val_loss: 2.9023\n",
            "Epoch 8/100\n",
            "8/8 [==============================] - 1s 124ms/step - loss: 2.8958 - val_loss: 2.8364\n",
            "Epoch 9/100\n",
            "8/8 [==============================] - 1s 117ms/step - loss: 2.8292 - val_loss: 2.7709\n",
            "Epoch 10/100\n",
            "8/8 [==============================] - 1s 145ms/step - loss: 2.7609 - val_loss: 2.7065\n",
            "Epoch 11/100\n",
            "8/8 [==============================] - 1s 143ms/step - loss: 2.6985 - val_loss: 2.6430\n",
            "Epoch 12/100\n",
            "8/8 [==============================] - 1s 133ms/step - loss: 2.6325 - val_loss: 2.5810\n",
            "Epoch 13/100\n",
            "8/8 [==============================] - 1s 114ms/step - loss: 2.5712 - val_loss: 2.5205\n",
            "Epoch 14/100\n",
            "8/8 [==============================] - 1s 143ms/step - loss: 2.5099 - val_loss: 2.4601\n",
            "Epoch 15/100\n",
            "8/8 [==============================] - 1s 119ms/step - loss: 2.4497 - val_loss: 2.4009\n",
            "Epoch 16/100\n",
            "8/8 [==============================] - 1s 139ms/step - loss: 2.3878 - val_loss: 2.3431\n",
            "Epoch 17/100\n",
            "8/8 [==============================] - 1s 119ms/step - loss: 2.3289 - val_loss: 2.2858\n",
            "Epoch 18/100\n",
            "8/8 [==============================] - 1s 146ms/step - loss: 2.2715 - val_loss: 2.2294\n",
            "Epoch 19/100\n",
            "8/8 [==============================] - 1s 147ms/step - loss: 2.2126 - val_loss: 2.1742\n",
            "Epoch 20/100\n",
            "8/8 [==============================] - 1s 142ms/step - loss: 2.1542 - val_loss: 2.1188\n",
            "Epoch 21/100\n",
            "8/8 [==============================] - 1s 137ms/step - loss: 2.0961 - val_loss: 2.0665\n",
            "Epoch 22/100\n",
            "8/8 [==============================] - 1s 123ms/step - loss: 2.0420 - val_loss: 2.0148\n",
            "Epoch 23/100\n",
            "8/8 [==============================] - 1s 111ms/step - loss: 1.9873 - val_loss: 1.9647\n",
            "Epoch 24/100\n",
            "8/8 [==============================] - 1s 110ms/step - loss: 1.9346 - val_loss: 1.9148\n",
            "Epoch 25/100\n",
            "8/8 [==============================] - 1s 115ms/step - loss: 1.8850 - val_loss: 1.8671\n",
            "Epoch 26/100\n",
            "8/8 [==============================] - 1s 133ms/step - loss: 1.8378 - val_loss: 1.8205\n",
            "Epoch 27/100\n",
            "8/8 [==============================] - 1s 115ms/step - loss: 1.7893 - val_loss: 1.7747\n",
            "Epoch 28/100\n",
            "8/8 [==============================] - 1s 140ms/step - loss: 1.7466 - val_loss: 1.7304\n",
            "Epoch 29/100\n",
            "8/8 [==============================] - 1s 127ms/step - loss: 1.7025 - val_loss: 1.6874\n",
            "Epoch 30/100\n",
            "8/8 [==============================] - 1s 131ms/step - loss: 1.6578 - val_loss: 1.6477\n",
            "Epoch 31/100\n",
            "8/8 [==============================] - 1s 143ms/step - loss: 1.6194 - val_loss: 1.6091\n",
            "Epoch 32/100\n",
            "8/8 [==============================] - 1s 123ms/step - loss: 1.5825 - val_loss: 1.5723\n",
            "Epoch 33/100\n",
            "8/8 [==============================] - 1s 114ms/step - loss: 1.5443 - val_loss: 1.5367\n",
            "Epoch 34/100\n",
            "8/8 [==============================] - 1s 117ms/step - loss: 1.5079 - val_loss: 1.5029\n",
            "Epoch 35/100\n",
            "8/8 [==============================] - 1s 109ms/step - loss: 1.4755 - val_loss: 1.4713\n",
            "Epoch 36/100\n",
            "8/8 [==============================] - 1s 127ms/step - loss: 1.4437 - val_loss: 1.4401\n",
            "Epoch 37/100\n",
            "8/8 [==============================] - 1s 142ms/step - loss: 1.4152 - val_loss: 1.4104\n",
            "Epoch 38/100\n",
            "8/8 [==============================] - 1s 111ms/step - loss: 1.3833 - val_loss: 1.3818\n",
            "Epoch 39/100\n",
            "8/8 [==============================] - 1s 127ms/step - loss: 1.3589 - val_loss: 1.3534\n",
            "Epoch 40/100\n",
            "8/8 [==============================] - 1s 112ms/step - loss: 1.3280 - val_loss: 1.3261\n",
            "Epoch 41/100\n",
            "8/8 [==============================] - 1s 123ms/step - loss: 1.3026 - val_loss: 1.2999\n",
            "Epoch 42/100\n",
            "8/8 [==============================] - 1s 123ms/step - loss: 1.2770 - val_loss: 1.2751\n",
            "Epoch 43/100\n",
            "8/8 [==============================] - 1s 114ms/step - loss: 1.2526 - val_loss: 1.2515\n",
            "Epoch 44/100\n",
            "8/8 [==============================] - 1s 117ms/step - loss: 1.2307 - val_loss: 1.2294\n",
            "Epoch 45/100\n",
            "8/8 [==============================] - 1s 128ms/step - loss: 1.2093 - val_loss: 1.2096\n",
            "Epoch 46/100\n",
            "8/8 [==============================] - 1s 128ms/step - loss: 1.1896 - val_loss: 1.1901\n",
            "Epoch 47/100\n",
            "8/8 [==============================] - 1s 126ms/step - loss: 1.1712 - val_loss: 1.1717\n",
            "Epoch 48/100\n",
            "8/8 [==============================] - 1s 141ms/step - loss: 1.1525 - val_loss: 1.1539\n",
            "Epoch 49/100\n",
            "8/8 [==============================] - 1s 142ms/step - loss: 1.1350 - val_loss: 1.1371\n",
            "Epoch 50/100\n",
            "8/8 [==============================] - 1s 127ms/step - loss: 1.1186 - val_loss: 1.1215\n",
            "Epoch 51/100\n",
            "8/8 [==============================] - 1s 142ms/step - loss: 1.1050 - val_loss: 1.1073\n",
            "Epoch 52/100\n",
            "8/8 [==============================] - 1s 124ms/step - loss: 1.0908 - val_loss: 1.0937\n",
            "Epoch 53/100\n",
            "8/8 [==============================] - 1s 119ms/step - loss: 1.0788 - val_loss: 1.0813\n",
            "Epoch 54/100\n",
            "8/8 [==============================] - 1s 116ms/step - loss: 1.0656 - val_loss: 1.0688\n",
            "Epoch 55/100\n",
            "8/8 [==============================] - 1s 111ms/step - loss: 1.0548 - val_loss: 1.0577\n",
            "Epoch 56/100\n",
            "8/8 [==============================] - 1s 130ms/step - loss: 1.0428 - val_loss: 1.0481\n",
            "Epoch 57/100\n",
            "8/8 [==============================] - 1s 121ms/step - loss: 1.0351 - val_loss: 1.0396\n",
            "Epoch 58/100\n",
            "8/8 [==============================] - 1s 119ms/step - loss: 1.0269 - val_loss: 1.0322\n",
            "Epoch 59/100\n",
            "8/8 [==============================] - 1s 117ms/step - loss: 1.0188 - val_loss: 1.0266\n",
            "Epoch 60/100\n",
            "8/8 [==============================] - 1s 132ms/step - loss: 1.0133 - val_loss: 1.0213\n",
            "Epoch 61/100\n",
            "8/8 [==============================] - 1s 113ms/step - loss: 1.0105 - val_loss: 1.0163\n",
            "Epoch 62/100\n",
            "8/8 [==============================] - 1s 113ms/step - loss: 1.0053 - val_loss: 1.0122\n",
            "Epoch 63/100\n",
            "8/8 [==============================] - 1s 122ms/step - loss: 1.0006 - val_loss: 1.0083\n",
            "Epoch 64/100\n",
            "8/8 [==============================] - 1s 129ms/step - loss: 0.9978 - val_loss: 1.0049\n",
            "Epoch 65/100\n",
            "8/8 [==============================] - 1s 142ms/step - loss: 0.9948 - val_loss: 1.0023\n",
            "Epoch 66/100\n",
            "8/8 [==============================] - 1s 129ms/step - loss: 0.9941 - val_loss: 1.0001\n",
            "Epoch 67/100\n",
            "8/8 [==============================] - 1s 142ms/step - loss: 0.9895 - val_loss: 0.9984\n",
            "Epoch 68/100\n",
            "8/8 [==============================] - 1s 120ms/step - loss: 0.9879 - val_loss: 0.9977\n",
            "Epoch 69/100\n",
            "8/8 [==============================] - 1s 114ms/step - loss: 0.9869 - val_loss: 0.9973\n",
            "Epoch 70/100\n",
            "8/8 [==============================] - 1s 134ms/step - loss: 0.9841 - val_loss: 0.9968\n",
            "Epoch 71/100\n",
            "8/8 [==============================] - 1s 144ms/step - loss: 0.9865 - val_loss: 0.9963\n",
            "Epoch 72/100\n",
            "8/8 [==============================] - 1s 142ms/step - loss: 0.9850 - val_loss: 0.9962\n",
            "Epoch 73/100\n",
            "8/8 [==============================] - 1s 137ms/step - loss: 0.9846 - val_loss: 0.9961\n",
            "Epoch 74/100\n",
            "8/8 [==============================] - 1s 125ms/step - loss: 0.9829 - val_loss: 0.9962\n",
            "Epoch 75/100\n",
            "8/8 [==============================] - 1s 119ms/step - loss: 0.9839 - val_loss: 0.9963\n",
            "Epoch 76/100\n",
            "8/8 [==============================] - 1s 119ms/step - loss: 0.9847 - val_loss: 0.9961\n",
            "Epoch 77/100\n",
            "8/8 [==============================] - 1s 119ms/step - loss: 0.9835 - val_loss: 0.9960\n",
            "Epoch 78/100\n",
            "8/8 [==============================] - 1s 114ms/step - loss: 0.9832 - val_loss: 0.9961\n",
            "Epoch 79/100\n",
            "8/8 [==============================] - 1s 116ms/step - loss: 0.9794 - val_loss: 0.9964\n",
            "Epoch 80/100\n",
            "8/8 [==============================] - 1s 117ms/step - loss: 0.9802 - val_loss: 0.9965\n",
            "Epoch 81/100\n",
            "8/8 [==============================] - 1s 124ms/step - loss: 0.9809 - val_loss: 0.9966\n",
            "Epoch 82/100\n",
            "8/8 [==============================] - 1s 155ms/step - loss: 0.9813 - val_loss: 0.9967\n",
            "Epoch 83/100\n",
            "8/8 [==============================] - 1s 149ms/step - loss: 0.9821 - val_loss: 0.9966\n",
            "Epoch 84/100\n",
            "8/8 [==============================] - 1s 153ms/step - loss: 0.9811 - val_loss: 0.9966\n",
            "Epoch 85/100\n",
            "8/8 [==============================] - 1s 126ms/step - loss: 0.9812 - val_loss: 0.9967\n",
            "Epoch 86/100\n",
            "8/8 [==============================] - 1s 138ms/step - loss: 0.9808 - val_loss: 0.9966\n",
            "Epoch 87/100\n",
            "8/8 [==============================] - 1s 128ms/step - loss: 0.9825 - val_loss: 0.9967\n",
            "Epoch 88/100\n",
            "8/8 [==============================] - 1s 126ms/step - loss: 0.9800 - val_loss: 0.9966\n",
            "Epoch 89/100\n",
            "8/8 [==============================] - 1s 142ms/step - loss: 0.9789 - val_loss: 0.9968\n",
            "Epoch 90/100\n",
            "8/8 [==============================] - 1s 149ms/step - loss: 0.9810 - val_loss: 0.9966\n",
            "Epoch 91/100\n",
            "8/8 [==============================] - 1s 144ms/step - loss: 0.9794 - val_loss: 0.9965\n",
            "Epoch 92/100\n",
            "8/8 [==============================] - 1s 132ms/step - loss: 0.9823 - val_loss: 0.9964\n",
            "Epoch 93/100\n",
            "8/8 [==============================] - 1s 115ms/step - loss: 0.9816 - val_loss: 0.9965\n",
            "Epoch 94/100\n",
            "8/8 [==============================] - 1s 124ms/step - loss: 0.9825 - val_loss: 0.9964\n",
            "Epoch 95/100\n",
            "8/8 [==============================] - 1s 112ms/step - loss: 0.9814 - val_loss: 0.9964\n",
            "Epoch 96/100\n",
            "8/8 [==============================] - 1s 124ms/step - loss: 0.9816 - val_loss: 0.9965\n",
            "Epoch 97/100\n",
            "8/8 [==============================] - 1s 108ms/step - loss: 0.9800 - val_loss: 0.9965\n",
            "Epoch 98/100\n",
            "8/8 [==============================] - 1s 109ms/step - loss: 0.9807 - val_loss: 0.9965\n",
            "Epoch 99/100\n",
            "8/8 [==============================] - 1s 116ms/step - loss: 0.9810 - val_loss: 0.9964\n",
            "Epoch 100/100\n",
            "8/8 [==============================] - 1s 125ms/step - loss: 0.9795 - val_loss: 0.9965\n"
          ],
          "name": "stdout"
        }
      ]
    },
    {
      "cell_type": "code",
      "metadata": {
        "colab": {
          "base_uri": "https://localhost:8080/"
        },
        "id": "6NfZSYk57Al-",
        "outputId": "815859e9-c147-457e-9453-8fdf0b5c1838"
      },
      "source": [
        "gc.collect()"
      ],
      "execution_count": null,
      "outputs": [
        {
          "output_type": "execute_result",
          "data": {
            "text/plain": [
              "1712679"
            ]
          },
          "metadata": {
            "tags": []
          },
          "execution_count": 201
        }
      ]
    },
    {
      "cell_type": "code",
      "metadata": {
        "colab": {
          "base_uri": "https://localhost:8080/",
          "height": 450
        },
        "id": "NCX2NSu87Al_",
        "outputId": "c528a6d2-dc32-4f93-acb9-65cc72a7daee"
      },
      "source": [
        "fig = plt.figure(figsize=(12,7))\r\n",
        "ax = plt.subplot(111)\r\n",
        "ax.plot(h.history[\"loss\"])\r\n",
        "ax.plot(h.history[\"val_loss\"])\r\n",
        "ax.set_ylim((0.96, 1.01))"
      ],
      "execution_count": null,
      "outputs": [
        {
          "output_type": "execute_result",
          "data": {
            "text/plain": [
              "(0.96, 1.01)"
            ]
          },
          "metadata": {
            "tags": []
          },
          "execution_count": 202
        },
        {
          "output_type": "display_data",
          "data": {
            "image/png": "[encoded data removed]",
            "text/plain": [
              "<Figure size 864x504 with 1 Axes>"
            ]
          },
          "metadata": {
            "tags": [],
            "needs_background": "light"
          }
        }
      ]
    },
    {
      "cell_type": "markdown",
      "metadata": {
        "id": "QRx4N-hDwRZf"
      },
      "source": [
        "# Performance Evaluation"
      ]
    },
    {
      "cell_type": "code",
      "metadata": {
        "id": "JxO7PqfPBLo5"
      },
      "source": [
        "train_portfolio_weights = rae_portfolio_constructor.predict(train_input_data)\r\n",
        "test_portfolio_weights = rae_portfolio_constructor.predict(test_input_data)\r\n",
        "train_portfolio_return_averages, test_portfolio_return_averages = portfolio_performance(train_portfolio_weights, test_portfolio_weights)"
      ],
      "execution_count": null,
      "outputs": []
    },
    {
      "cell_type": "code",
      "metadata": {
        "colab": {
          "base_uri": "https://localhost:8080/"
        },
        "id": "9sBIw75aaxfE",
        "outputId": "8459047b-4f59-480a-a0ee-fedd9c9af8d1"
      },
      "source": [
        "train_portfolio_weights[0,-1,:]"
      ],
      "execution_count": null,
      "outputs": [
        {
          "output_type": "execute_result",
          "data": {
            "text/plain": [
              "array([8.3910971e-04, 8.3134871e-04, 8.4211474e-04, 8.3062396e-04,\n",
              "       9.8748559e-01, 8.3521364e-04, 8.2992000e-04, 8.2600914e-04,\n",
              "       8.4006414e-04, 8.2515879e-04, 8.3669252e-04, 8.2841056e-04,\n",
              "       8.2889013e-04, 8.3767326e-04, 8.3026837e-04, 8.5300434e-04],\n",
              "      dtype=float32)"
            ]
          },
          "metadata": {
            "tags": []
          },
          "execution_count": 204
        }
      ]
    },
    {
      "cell_type": "code",
      "metadata": {
        "colab": {
          "base_uri": "https://localhost:8080/"
        },
        "id": "ne6RevGGBPN5",
        "outputId": "08f48e1a-a0ea-4e25-a38d-de2eb65ae65c"
      },
      "source": [
        "np.mean(train_portfolio_return_averages), np.mean(test_portfolio_return_averages)"
      ],
      "execution_count": null,
      "outputs": [
        {
          "output_type": "execute_result",
          "data": {
            "text/plain": [
              "(0.0007768986, 0.00042050137)"
            ]
          },
          "metadata": {
            "tags": []
          },
          "execution_count": 205
        }
      ]
    },
    {
      "cell_type": "markdown",
      "metadata": {
        "id": "Zi49_17tnt-d"
      },
      "source": [
        "## Regularization coefficient = 2e-2"
      ]
    },
    {
      "cell_type": "code",
      "metadata": {
        "colab": {
          "base_uri": "https://localhost:8080/",
          "height": 265
        },
        "id": "FRMa-yyAnt-i",
        "outputId": "ab5040d9-8db6-4c69-9025-7dfaccd7c44c"
      },
      "source": [
        "plt.hist(train_portfolio_return_averages)\r\n",
        "plt.show()"
      ],
      "execution_count": null,
      "outputs": [
        {
          "output_type": "display_data",
          "data": {
            "image/png": "[encoded data removed]",
            "text/plain": [
              "<Figure size 432x288 with 1 Axes>"
            ]
          },
          "metadata": {
            "tags": [],
            "needs_background": "light"
          }
        }
      ]
    },
    {
      "cell_type": "code",
      "metadata": {
        "colab": {
          "base_uri": "https://localhost:8080/",
          "height": 265
        },
        "id": "LCHkzvhJnt-m",
        "outputId": "4d40ff08-9c84-4815-c10e-7007a7cf5bf4"
      },
      "source": [
        "plt.hist(test_portfolio_return_averages)\r\n",
        "plt.show()"
      ],
      "execution_count": null,
      "outputs": [
        {
          "output_type": "display_data",
          "data": {
            "image/png": "[encoded data removed]",
            "text/plain": [
              "<Figure size 432x288 with 1 Axes>"
            ]
          },
          "metadata": {
            "tags": [],
            "needs_background": "light"
          }
        }
      ]
    },
    {
      "cell_type": "markdown",
      "metadata": {
        "id": "j8WJVbY8pzY-"
      },
      "source": [
        "## Regularization coefficient = 4e-2"
      ]
    },
    {
      "cell_type": "code",
      "metadata": {
        "colab": {
          "base_uri": "https://localhost:8080/"
        },
        "id": "Sffa47cSpzZF",
        "outputId": "60a7f878-d172-4894-e446-9cadd207b3c3"
      },
      "source": [
        "plt.hist(train_portfolio_return_averages)\r\n",
        "plt.show()"
      ],
      "execution_count": null,
      "outputs": [
        {
          "output_type": "display_data",
          "data": {
            "image/png": "[encoded data removed]",
            "text/plain": [
              "<Figure size 432x288 with 1 Axes>"
            ]
          },
          "metadata": {
            "tags": [],
            "needs_background": "light"
          }
        }
      ]
    },
    {
      "cell_type": "code",
      "metadata": {
        "colab": {
          "base_uri": "https://localhost:8080/"
        },
        "id": "pkiwEuvhpzZG",
        "outputId": "7f724c3e-cc7b-4fcc-91d0-940236abc361"
      },
      "source": [
        "plt.hist(test_portfolio_return_averages)\r\n",
        "plt.show()"
      ],
      "execution_count": null,
      "outputs": [
        {
          "output_type": "display_data",
          "data": {
            "image/png": "[encoded data removed]",
            "text/plain": [
              "<Figure size 432x288 with 1 Axes>"
            ]
          },
          "metadata": {
            "tags": [],
            "needs_background": "light"
          }
        }
      ]
    },
    {
      "cell_type": "markdown",
      "metadata": {
        "id": "tiyLvuuJnfx0"
      },
      "source": [
        "## Regularization coefficient = 8e-2"
      ]
    },
    {
      "cell_type": "code",
      "metadata": {
        "colab": {
          "base_uri": "https://localhost:8080/",
          "height": 265
        },
        "id": "avZK_1UTBdGw",
        "outputId": "3323e0ad-5096-4a72-b749-f597d8e78309"
      },
      "source": [
        "plt.hist(train_portfolio_return_averages)\r\n",
        "plt.show()"
      ],
      "execution_count": null,
      "outputs": [
        {
          "output_type": "display_data",
          "data": {
            "image/png": "[encoded data removed]",
            "text/plain": [
              "<Figure size 432x288 with 1 Axes>"
            ]
          },
          "metadata": {
            "tags": [],
            "needs_background": "light"
          }
        }
      ]
    },
    {
      "cell_type": "code",
      "metadata": {
        "colab": {
          "base_uri": "https://localhost:8080/",
          "height": 265
        },
        "id": "3GSpko9XBhEU",
        "outputId": "2ba966ac-687f-4d1d-bc40-f417f3330b20"
      },
      "source": [
        "plt.hist(test_portfolio_return_averages)\r\n",
        "plt.show()"
      ],
      "execution_count": null,
      "outputs": [
        {
          "output_type": "display_data",
          "data": {
            "image/png": "[encoded data removed]",
            "text/plain": [
              "<Figure size 432x288 with 1 Axes>"
            ]
          },
          "metadata": {
            "tags": [],
            "needs_background": "light"
          }
        }
      ]
    }
  ]
}